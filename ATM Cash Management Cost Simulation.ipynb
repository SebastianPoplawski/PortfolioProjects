{
 "cells": [
  {
   "cell_type": "markdown",
   "id": "84760f6e",
   "metadata": {},
   "source": [
    "# Objective:\n",
    "# The objective of this project is to simulate the costs associated with managing an ATM cash balance over a 360-day period. The simulation takes into account the daily demand for cash withdrawals, the maximum cash capacity of the ATM, and the cost of reloading the ATM with cash."
   ]
  },
  {
   "cell_type": "code",
   "execution_count": 1,
   "id": "49f82676",
   "metadata": {},
   "outputs": [],
   "source": [
    "# Import libraries:\n",
    "# We begin by importing two essential libraries for data analysis: Pandas and NumPy. Pandas provides tools for manipulating and analyzing data, while NumPy is used for scientific computing and data analysis."
   ]
  },
  {
   "cell_type": "code",
   "execution_count": 2,
   "id": "b5ac604f",
   "metadata": {},
   "outputs": [],
   "source": [
    "import pandas as pd\n",
    "import numpy as np"
   ]
  },
  {
   "cell_type": "code",
   "execution_count": 3,
   "id": "43321137",
   "metadata": {},
   "outputs": [],
   "source": [
    "# Define simulation parameters:\n",
    "# We define several simulation parameters that will be used in the simulation.\n",
    "# These parameters include the daily demand for cash withdrawals, the maximum cash capacity of the ATM, \n",
    "# and the maximum amount of cash that can be added to the ATM each time it is reloaded."
   ]
  },
  {
   "cell_type": "code",
   "execution_count": 4,
   "id": "8ebac290",
   "metadata": {},
   "outputs": [],
   "source": [
    "demand = 18000\n",
    "atm = 700000\n",
    "recharge = 700000"
   ]
  },
  {
   "cell_type": "code",
   "execution_count": 5,
   "id": "9402b3aa",
   "metadata": {},
   "outputs": [],
   "source": [
    "# Define cost parameters:\n",
    "# We define several cost parameters that will be used to calculate the costs associated with managing the ATM cash balance. \n",
    "# These parameters include the fixed and variable costs associated with supplying the ATM with cash,\n",
    "# the cost of freezing cash in the ATM, the variable cost associated with counting cash, and the fixed cost associated with a cash shortage."
   ]
  },
  {
   "cell_type": "code",
   "execution_count": 6,
   "id": "a935b99b",
   "metadata": {},
   "outputs": [],
   "source": [
    "supply_cost_fixed = 150\n",
    "supply_cost_var = 0.0002\n",
    "freeze_cost_var = 0.0196/360\n",
    "count_cost_var = 0.0002\n",
    "lackof_cost_fixed = 500"
   ]
  },
  {
   "cell_type": "code",
   "execution_count": 7,
   "id": "39811ceb",
   "metadata": {},
   "outputs": [],
   "source": [
    "# Initialize cost dictionary:\n",
    "# We initialize a dictionary called 'costs' to store the calculated costs for each level of cash recharge. \n",
    "# The dictionary contains four keys corresponding to the different types of costs: 'supply_cost', 'freeze_cost', 'count_cost', and 'lackof_cost'."
   ]
  },
  {
   "cell_type": "code",
   "execution_count": 8,
   "id": "324762b0",
   "metadata": {},
   "outputs": [],
   "source": [
    "costs = {'supply_cost' : [0]*4,\n",
    "        'freeze_cost' : [0]*4,\n",
    "        'count_cost' : [0]*4,\n",
    "        'lackof_cost' : [0]*4}"
   ]
  },
  {
   "cell_type": "code",
   "execution_count": 9,
   "id": "7727c591",
   "metadata": {},
   "outputs": [],
   "source": [
    "# Run simulation for different levels of cash recharge:\n",
    "# We run the simulation for four different levels of cash recharge, ranging from 25% to 100% of the maximum cash capacity.\n",
    "# For each level of recharge, we loop through 360 days of operation and calculate the costs associated with managing the ATM cash balance."
   ]
  },
  {
   "cell_type": "code",
   "execution_count": 10,
   "id": "b8535e26",
   "metadata": {},
   "outputs": [
    {
     "name": "stdout",
     "output_type": "stream",
     "text": [
      "      supply_cost  freeze_cost  count_cost  lackof_cost\n",
      "25%        6660.0  2536.403333        94.2            0\n",
      "50%        4180.0  3692.912222        31.4            0\n",
      "75%        3315.0  5417.984444         8.8            0\n",
      "100%       2610.0  7020.992222        26.2            0\n"
     ]
    }
   ],
   "source": [
    "for i, recharge in enumerate([x*700000 for x in [.25,.5,.75,1]]):\n",
    "    for day in range(360):\n",
    "        # Subtract daily demand from ATM balance\n",
    "        atm -= demand #atm = atm-demand\n",
    "        \n",
    "        # If ATM balance falls below daily demand, reload with cash and incur supply and count costs\n",
    "        if atm <= demand:\n",
    "            costs['supply_cost'][i] += supply_cost_fixed + supply_cost_var * recharge\n",
    "            costs['count_cost'][i] += atm * count_cost_var\n",
    "            atm = recharge\n",
    "        \n",
    "        # Increment freeze cost based on remaining balance and daily interest rate\n",
    "        costs['freeze_cost'][i] += atm * freeze_cost_var\n",
    "        \n",
    "        # If ATM balance falls below zero, incur lack-of-cash cost\n",
    "        if atm < 0:\n",
    "            costs['lackof_cost'][i] += 500\n",
    "        \n",
    "# Create Pandas DataFrame to display calculated costs\n",
    "df = pd.DataFrame(costs, index = [f\"{round(x*100)}%\" for x in np.linspace(0.25,1,4)])\n",
    "print(df)"
   ]
  },
  {
   "cell_type": "code",
   "execution_count": 11,
   "id": "dc3acf6d",
   "metadata": {},
   "outputs": [
    {
     "data": {
      "text/plain": [
       "52000"
      ]
     },
     "execution_count": 11,
     "metadata": {},
     "output_type": "execute_result"
    }
   ],
   "source": [
    "atm"
   ]
  },
  {
   "cell_type": "code",
   "execution_count": 12,
   "id": "4ee3ff22",
   "metadata": {
    "scrolled": true
   },
   "outputs": [
    {
     "data": {
      "text/plain": [
       "<AxesSubplot:>"
      ]
     },
     "execution_count": 12,
     "metadata": {},
     "output_type": "execute_result"
    },
    {
     "data": {
      "image/png": "[encoded data removed]",
      "text/plain": [
       "<Figure size 432x288 with 1 Axes>"
      ]
     },
     "metadata": {
      "needs_background": "light"
     },
     "output_type": "display_data"
    }
   ],
   "source": [
    "df.plot.bar(legend=False)"
   ]
  },
  {
   "cell_type": "code",
   "execution_count": 13,
   "id": "aa35a559",
   "metadata": {},
   "outputs": [],
   "source": [
    "#Load the dataset"
   ]
  },
  {
   "cell_type": "code",
   "execution_count": 14,
   "id": "d57980d9",
   "metadata": {},
   "outputs": [],
   "source": [
    "data = pd.read_csv('/Users/sebastian/Desktop/Sebastian/Studia/Big Data/Python na rynku bankowym/Pre_materials_SGH_Big_Data_Python_ATM/atm_daily_data.csv', sep=';')"
   ]
  },
  {
   "cell_type": "code",
   "execution_count": 15,
   "id": "d0bea8a8",
   "metadata": {},
   "outputs": [
    {
     "data": {
      "text/html": [
       "<div>\n",
       "<style scoped>\n",
       "    .dataframe tbody tr th:only-of-type {\n",
       "        vertical-align: middle;\n",
       "    }\n",
       "\n",
       "    .dataframe tbody tr th {\n",
       "        vertical-align: top;\n",
       "    }\n",
       "\n",
       "    .dataframe thead th {\n",
       "        text-align: right;\n",
       "    }\n",
       "</style>\n",
       "<table border=\"1\" class=\"dataframe\">\n",
       "  <thead>\n",
       "    <tr style=\"text-align: right;\">\n",
       "      <th></th>\n",
       "      <th>Location</th>\n",
       "      <th>TimeStamp</th>\n",
       "      <th>Year</th>\n",
       "      <th>Month</th>\n",
       "      <th>MonthDay</th>\n",
       "      <th>DailyAmount</th>\n",
       "      <th>Weekday</th>\n",
       "    </tr>\n",
       "  </thead>\n",
       "  <tbody>\n",
       "    <tr>\n",
       "      <th>0</th>\n",
       "      <td>CampusA</td>\n",
       "      <td>20100101</td>\n",
       "      <td>2010</td>\n",
       "      <td>1</td>\n",
       "      <td>1</td>\n",
       "      <td>1170</td>\n",
       "      <td>Tue</td>\n",
       "    </tr>\n",
       "    <tr>\n",
       "      <th>1</th>\n",
       "      <td>CampusA</td>\n",
       "      <td>20100102</td>\n",
       "      <td>2010</td>\n",
       "      <td>1</td>\n",
       "      <td>2</td>\n",
       "      <td>1660</td>\n",
       "      <td>Wed</td>\n",
       "    </tr>\n",
       "    <tr>\n",
       "      <th>2</th>\n",
       "      <td>CampusA</td>\n",
       "      <td>20100103</td>\n",
       "      <td>2010</td>\n",
       "      <td>1</td>\n",
       "      <td>3</td>\n",
       "      <td>870</td>\n",
       "      <td>Thu</td>\n",
       "    </tr>\n",
       "    <tr>\n",
       "      <th>3</th>\n",
       "      <td>CampusA</td>\n",
       "      <td>20100104</td>\n",
       "      <td>2010</td>\n",
       "      <td>1</td>\n",
       "      <td>4</td>\n",
       "      <td>1320</td>\n",
       "      <td>Fri</td>\n",
       "    </tr>\n",
       "    <tr>\n",
       "      <th>4</th>\n",
       "      <td>CampusA</td>\n",
       "      <td>20100105</td>\n",
       "      <td>2010</td>\n",
       "      <td>1</td>\n",
       "      <td>5</td>\n",
       "      <td>5</td>\n",
       "      <td>Sat</td>\n",
       "    </tr>\n",
       "    <tr>\n",
       "      <th>...</th>\n",
       "      <td>...</td>\n",
       "      <td>...</td>\n",
       "      <td>...</td>\n",
       "      <td>...</td>\n",
       "      <td>...</td>\n",
       "      <td>...</td>\n",
       "      <td>...</td>\n",
       "    </tr>\n",
       "    <tr>\n",
       "      <th>5395</th>\n",
       "      <td>DriveUp</td>\n",
       "      <td>20141226</td>\n",
       "      <td>2014</td>\n",
       "      <td>12</td>\n",
       "      <td>26</td>\n",
       "      <td>62540</td>\n",
       "      <td>Fri</td>\n",
       "    </tr>\n",
       "    <tr>\n",
       "      <th>5396</th>\n",
       "      <td>DriveUp</td>\n",
       "      <td>20141227</td>\n",
       "      <td>2014</td>\n",
       "      <td>12</td>\n",
       "      <td>27</td>\n",
       "      <td>26980</td>\n",
       "      <td>Sat</td>\n",
       "    </tr>\n",
       "    <tr>\n",
       "      <th>5397</th>\n",
       "      <td>DriveUp</td>\n",
       "      <td>20141228</td>\n",
       "      <td>2014</td>\n",
       "      <td>12</td>\n",
       "      <td>28</td>\n",
       "      <td>39030</td>\n",
       "      <td>Sun</td>\n",
       "    </tr>\n",
       "    <tr>\n",
       "      <th>5398</th>\n",
       "      <td>DriveUp</td>\n",
       "      <td>20141229</td>\n",
       "      <td>2014</td>\n",
       "      <td>12</td>\n",
       "      <td>29</td>\n",
       "      <td>32830</td>\n",
       "      <td>Mon</td>\n",
       "    </tr>\n",
       "    <tr>\n",
       "      <th>5399</th>\n",
       "      <td>DriveUp</td>\n",
       "      <td>20141230</td>\n",
       "      <td>2014</td>\n",
       "      <td>12</td>\n",
       "      <td>30</td>\n",
       "      <td>40760</td>\n",
       "      <td>Tue</td>\n",
       "    </tr>\n",
       "  </tbody>\n",
       "</table>\n",
       "<p>5400 rows × 7 columns</p>\n",
       "</div>"
      ],
      "text/plain": [
       "     Location  TimeStamp  Year  Month  MonthDay  DailyAmount Weekday\n",
       "0     CampusA   20100101  2010      1         1         1170     Tue\n",
       "1     CampusA   20100102  2010      1         2         1660     Wed\n",
       "2     CampusA   20100103  2010      1         3          870     Thu\n",
       "3     CampusA   20100104  2010      1         4         1320     Fri\n",
       "4     CampusA   20100105  2010      1         5            5     Sat\n",
       "...       ...        ...   ...    ...       ...          ...     ...\n",
       "5395  DriveUp   20141226  2014     12        26        62540     Fri\n",
       "5396  DriveUp   20141227  2014     12        27        26980     Sat\n",
       "5397  DriveUp   20141228  2014     12        28        39030     Sun\n",
       "5398  DriveUp   20141229  2014     12        29        32830     Mon\n",
       "5399  DriveUp   20141230  2014     12        30        40760     Tue\n",
       "\n",
       "[5400 rows x 7 columns]"
      ]
     },
     "execution_count": 15,
     "metadata": {},
     "output_type": "execute_result"
    }
   ],
   "source": [
    "#Preview the dataset\n",
    "data"
   ]
  },
  {
   "cell_type": "code",
   "execution_count": 16,
   "id": "35795e6b",
   "metadata": {},
   "outputs": [
    {
     "data": {
      "text/plain": [
       "<AxesSubplot:>"
      ]
     },
     "execution_count": 16,
     "metadata": {},
     "output_type": "execute_result"
    },
    {
     "data": {
      "image/png": "[encoded data removed]",
      "text/plain": [
       "<Figure size 432x288 with 1 Axes>"
      ]
     },
     "metadata": {
      "needs_background": "light"
     },
     "output_type": "display_data"
    }
   ],
   "source": [
    "#Plot daily amount withdrawn from all locations in the dataset\n",
    "data.DailyAmount.plot()"
   ]
  },
  {
   "cell_type": "code",
   "execution_count": 17,
   "id": "91f8d5d6",
   "metadata": {},
   "outputs": [
    {
     "data": {
      "text/plain": [
       "<AxesSubplot:>"
      ]
     },
     "execution_count": 17,
     "metadata": {},
     "output_type": "execute_result"
    },
    {
     "data": {
      "image/png": "[encoded data removed]",
      "text/plain": [
       "<Figure size 576x432 with 1 Axes>"
      ]
     },
     "metadata": {
      "needs_background": "light"
     },
     "output_type": "display_data"
    }
   ],
   "source": [
    "#Reshape the dataset to have locations as columns and dates as rows, then plot\n",
    "data_temp = data.pivot(index='TimeStamp', columns='Location', values='DailyAmount')\n",
    "data_temp.reset_index().loc[:,['CampusA', 'CampusB', 'DriveUp']].plot(figsize=[8,6])"
   ]
  },
  {
   "cell_type": "code",
   "execution_count": 18,
   "id": "f8d86211",
   "metadata": {
    "scrolled": true
   },
   "outputs": [
    {
     "data": {
      "text/html": [
       "<div>\n",
       "<style scoped>\n",
       "    .dataframe tbody tr th:only-of-type {\n",
       "        vertical-align: middle;\n",
       "    }\n",
       "\n",
       "    .dataframe tbody tr th {\n",
       "        vertical-align: top;\n",
       "    }\n",
       "\n",
       "    .dataframe thead th {\n",
       "        text-align: right;\n",
       "    }\n",
       "</style>\n",
       "<table border=\"1\" class=\"dataframe\">\n",
       "  <thead>\n",
       "    <tr style=\"text-align: right;\">\n",
       "      <th>Location</th>\n",
       "      <th>CampusA</th>\n",
       "      <th>CampusB</th>\n",
       "      <th>DriveUp</th>\n",
       "    </tr>\n",
       "    <tr>\n",
       "      <th>TimeStamp</th>\n",
       "      <th></th>\n",
       "      <th></th>\n",
       "      <th></th>\n",
       "    </tr>\n",
       "  </thead>\n",
       "  <tbody>\n",
       "    <tr>\n",
       "      <th>20100101</th>\n",
       "      <td>1170</td>\n",
       "      <td>10660</td>\n",
       "      <td>10170</td>\n",
       "    </tr>\n",
       "    <tr>\n",
       "      <th>20100102</th>\n",
       "      <td>1660</td>\n",
       "      <td>6680</td>\n",
       "      <td>11810</td>\n",
       "    </tr>\n",
       "    <tr>\n",
       "      <th>20100103</th>\n",
       "      <td>870</td>\n",
       "      <td>7600</td>\n",
       "      <td>12490</td>\n",
       "    </tr>\n",
       "    <tr>\n",
       "      <th>20100104</th>\n",
       "      <td>1320</td>\n",
       "      <td>12950</td>\n",
       "      <td>25410</td>\n",
       "    </tr>\n",
       "    <tr>\n",
       "      <th>20100105</th>\n",
       "      <td>5</td>\n",
       "      <td>2850</td>\n",
       "      <td>0</td>\n",
       "    </tr>\n",
       "    <tr>\n",
       "      <th>...</th>\n",
       "      <td>...</td>\n",
       "      <td>...</td>\n",
       "      <td>...</td>\n",
       "    </tr>\n",
       "    <tr>\n",
       "      <th>20141226</th>\n",
       "      <td>1200</td>\n",
       "      <td>11790</td>\n",
       "      <td>62540</td>\n",
       "    </tr>\n",
       "    <tr>\n",
       "      <th>20141227</th>\n",
       "      <td>68</td>\n",
       "      <td>11760</td>\n",
       "      <td>26980</td>\n",
       "    </tr>\n",
       "    <tr>\n",
       "      <th>20141228</th>\n",
       "      <td>740</td>\n",
       "      <td>22140</td>\n",
       "      <td>39030</td>\n",
       "    </tr>\n",
       "    <tr>\n",
       "      <th>20141229</th>\n",
       "      <td>2680</td>\n",
       "      <td>23070</td>\n",
       "      <td>32830</td>\n",
       "    </tr>\n",
       "    <tr>\n",
       "      <th>20141230</th>\n",
       "      <td>2550</td>\n",
       "      <td>25500</td>\n",
       "      <td>40760</td>\n",
       "    </tr>\n",
       "  </tbody>\n",
       "</table>\n",
       "<p>1800 rows × 3 columns</p>\n",
       "</div>"
      ],
      "text/plain": [
       "Location   CampusA  CampusB  DriveUp\n",
       "TimeStamp                           \n",
       "20100101      1170    10660    10170\n",
       "20100102      1660     6680    11810\n",
       "20100103       870     7600    12490\n",
       "20100104      1320    12950    25410\n",
       "20100105         5     2850        0\n",
       "...            ...      ...      ...\n",
       "20141226      1200    11790    62540\n",
       "20141227        68    11760    26980\n",
       "20141228       740    22140    39030\n",
       "20141229      2680    23070    32830\n",
       "20141230      2550    25500    40760\n",
       "\n",
       "[1800 rows x 3 columns]"
      ]
     },
     "execution_count": 18,
     "metadata": {},
     "output_type": "execute_result"
    }
   ],
   "source": [
    "data_temp"
   ]
  },
  {
   "cell_type": "code",
   "execution_count": 19,
   "id": "1c4dd199",
   "metadata": {},
   "outputs": [],
   "source": [
    "#Calculate the correlation between the different time lagged versions of the CampusA withdrawals\n",
    "CampusA = data[data.Location == 'CampusA'].copy()"
   ]
  },
  {
   "cell_type": "code",
   "execution_count": 20,
   "id": "1407e89f",
   "metadata": {},
   "outputs": [],
   "source": [
    "#Create columns for time lagged versions of CampusA daily amount withdrawn\n",
    "for i in [1,7,30,180,360]:\n",
    "    CampusA[f'DailyAmount{i}'] = CampusA.DailyAmount.shift(i)"
   ]
  },
  {
   "cell_type": "code",
   "execution_count": 21,
   "id": "4fd455f8",
   "metadata": {
    "scrolled": true
   },
   "outputs": [
    {
     "data": {
      "text/html": [
       "<div>\n",
       "<style scoped>\n",
       "    .dataframe tbody tr th:only-of-type {\n",
       "        vertical-align: middle;\n",
       "    }\n",
       "\n",
       "    .dataframe tbody tr th {\n",
       "        vertical-align: top;\n",
       "    }\n",
       "\n",
       "    .dataframe thead th {\n",
       "        text-align: right;\n",
       "    }\n",
       "</style>\n",
       "<table border=\"1\" class=\"dataframe\">\n",
       "  <thead>\n",
       "    <tr style=\"text-align: right;\">\n",
       "      <th></th>\n",
       "      <th>DailyAmount</th>\n",
       "      <th>DailyAmount1</th>\n",
       "      <th>DailyAmount7</th>\n",
       "      <th>DailyAmount30</th>\n",
       "      <th>DailyAmount180</th>\n",
       "      <th>DailyAmount360</th>\n",
       "    </tr>\n",
       "  </thead>\n",
       "  <tbody>\n",
       "    <tr>\n",
       "      <th>DailyAmount</th>\n",
       "      <td>1.000000</td>\n",
       "      <td>0.542393</td>\n",
       "      <td>0.644636</td>\n",
       "      <td>0.850365</td>\n",
       "      <td>0.893957</td>\n",
       "      <td>0.939033</td>\n",
       "    </tr>\n",
       "    <tr>\n",
       "      <th>DailyAmount1</th>\n",
       "      <td>0.542393</td>\n",
       "      <td>1.000000</td>\n",
       "      <td>0.378353</td>\n",
       "      <td>0.463243</td>\n",
       "      <td>0.490022</td>\n",
       "      <td>0.520776</td>\n",
       "    </tr>\n",
       "    <tr>\n",
       "      <th>DailyAmount7</th>\n",
       "      <td>0.644636</td>\n",
       "      <td>0.378353</td>\n",
       "      <td>1.000000</td>\n",
       "      <td>0.584354</td>\n",
       "      <td>0.600208</td>\n",
       "      <td>0.629324</td>\n",
       "    </tr>\n",
       "    <tr>\n",
       "      <th>DailyAmount30</th>\n",
       "      <td>0.850365</td>\n",
       "      <td>0.463243</td>\n",
       "      <td>0.584354</td>\n",
       "      <td>1.000000</td>\n",
       "      <td>0.875128</td>\n",
       "      <td>0.840262</td>\n",
       "    </tr>\n",
       "    <tr>\n",
       "      <th>DailyAmount180</th>\n",
       "      <td>0.893957</td>\n",
       "      <td>0.490022</td>\n",
       "      <td>0.600208</td>\n",
       "      <td>0.875128</td>\n",
       "      <td>1.000000</td>\n",
       "      <td>0.890080</td>\n",
       "    </tr>\n",
       "    <tr>\n",
       "      <th>DailyAmount360</th>\n",
       "      <td>0.939033</td>\n",
       "      <td>0.520776</td>\n",
       "      <td>0.629324</td>\n",
       "      <td>0.840262</td>\n",
       "      <td>0.890080</td>\n",
       "      <td>1.000000</td>\n",
       "    </tr>\n",
       "  </tbody>\n",
       "</table>\n",
       "</div>"
      ],
      "text/plain": [
       "                DailyAmount  DailyAmount1  DailyAmount7  DailyAmount30  \\\n",
       "DailyAmount        1.000000      0.542393      0.644636       0.850365   \n",
       "DailyAmount1       0.542393      1.000000      0.378353       0.463243   \n",
       "DailyAmount7       0.644636      0.378353      1.000000       0.584354   \n",
       "DailyAmount30      0.850365      0.463243      0.584354       1.000000   \n",
       "DailyAmount180     0.893957      0.490022      0.600208       0.875128   \n",
       "DailyAmount360     0.939033      0.520776      0.629324       0.840262   \n",
       "\n",
       "                DailyAmount180  DailyAmount360  \n",
       "DailyAmount           0.893957        0.939033  \n",
       "DailyAmount1          0.490022        0.520776  \n",
       "DailyAmount7          0.600208        0.629324  \n",
       "DailyAmount30         0.875128        0.840262  \n",
       "DailyAmount180        1.000000        0.890080  \n",
       "DailyAmount360        0.890080        1.000000  "
      ]
     },
     "execution_count": 21,
     "metadata": {},
     "output_type": "execute_result"
    }
   ],
   "source": [
    "#Compute correlation between time lagged versions of CampusA daily amount withdrawn\n",
    "CampusA.iloc[:,5:].corr()"
   ]
  },
  {
   "cell_type": "code",
   "execution_count": 22,
   "id": "76c2eb82",
   "metadata": {},
   "outputs": [
    {
     "name": "stdout",
     "output_type": "stream",
     "text": [
      "MAE: 263.43838904975405\n"
     ]
    }
   ],
   "source": [
    "import statsmodels.formula.api as smf\n",
    "from sklearn.metrics import mean_squared_error, mean_absolute_error\n",
    "\n",
    "#Train a linear regression model on the time lagged versions of CampusA daily amount withdrawn\n",
    "CampusA = data[data.Location == 'CampusA'].copy()\n",
    "\n",
    "#Create columns for time lagged versions of CampusA daily amount withdrawn\n",
    "for i in [1,7,30,180,360]:\n",
    "    CampusA[f'DailyAmount{i}'] = CampusA.DailyAmount.shift(i)\n",
    "\n",
    "#Remove NaN values from the dataset\n",
    "CampusA.dropna(inplace=True)\n",
    "\n",
    "#Split the dataset into training and test sets based on the timestamp\n",
    "CampusA_train = CampusA[CampusA.TimeStamp < 20140101]\n",
    "CampusA_test = CampusA[CampusA.TimeStamp >= 20140101]\n",
    "\n",
    "#Train a linear regression model on the time lagged versions of CampusA daily amount withdrawn\n",
    "model_base = smf.ols(formula='DailyAmount ~ DailyAmount1 + DailyAmount7 + DailyAmount30 + \\\n",
    "                                DailyAmount180 + DailyAmount360', data = CampusA).fit()\n",
    "\n",
    "#Evaluate the model's performance on the test set using mean absolute error\n",
    "print(f\"MAE: {mean_absolute_error(CampusA.DailyAmount, model_base.predict(CampusA.loc[:,['DailyAmount1', 'DailyAmount7', 'DailyAmount30', 'DailyAmount180', 'DailyAmount360']]))}\")"
   ]
  },
  {
   "cell_type": "code",
   "execution_count": 23,
   "id": "e0f46583",
   "metadata": {},
   "outputs": [
    {
     "data": {
      "text/html": [
       "<table class=\"simpletable\">\n",
       "<caption>OLS Regression Results</caption>\n",
       "<tr>\n",
       "  <th>Dep. Variable:</th>       <td>DailyAmount</td>   <th>  R-squared:         </th> <td>   0.901</td> \n",
       "</tr>\n",
       "<tr>\n",
       "  <th>Model:</th>                   <td>OLS</td>       <th>  Adj. R-squared:    </th> <td>   0.901</td> \n",
       "</tr>\n",
       "<tr>\n",
       "  <th>Method:</th>             <td>Least Squares</td>  <th>  F-statistic:       </th> <td>   2619.</td> \n",
       "</tr>\n",
       "<tr>\n",
       "  <th>Date:</th>             <td>Fri, 17 Mar 2023</td> <th>  Prob (F-statistic):</th>  <td>  0.00</td>  \n",
       "</tr>\n",
       "<tr>\n",
       "  <th>Time:</th>                 <td>16:01:31</td>     <th>  Log-Likelihood:    </th> <td> -10587.</td> \n",
       "</tr>\n",
       "<tr>\n",
       "  <th>No. Observations:</th>      <td>  1440</td>      <th>  AIC:               </th> <td>2.119e+04</td>\n",
       "</tr>\n",
       "<tr>\n",
       "  <th>Df Residuals:</th>          <td>  1434</td>      <th>  BIC:               </th> <td>2.122e+04</td>\n",
       "</tr>\n",
       "<tr>\n",
       "  <th>Df Model:</th>              <td>     5</td>      <th>                     </th>     <td> </td>    \n",
       "</tr>\n",
       "<tr>\n",
       "  <th>Covariance Type:</th>      <td>nonrobust</td>    <th>                     </th>     <td> </td>    \n",
       "</tr>\n",
       "</table>\n",
       "<table class=\"simpletable\">\n",
       "<tr>\n",
       "         <td></td>           <th>coef</th>     <th>std err</th>      <th>t</th>      <th>P>|t|</th>  <th>[0.025</th>    <th>0.975]</th>  \n",
       "</tr>\n",
       "<tr>\n",
       "  <th>Intercept</th>      <td>   16.0850</td> <td>   19.885</td> <td>    0.809</td> <td> 0.419</td> <td>  -22.922</td> <td>   55.092</td>\n",
       "</tr>\n",
       "<tr>\n",
       "  <th>DailyAmount1</th>   <td>    0.0342</td> <td>    0.010</td> <td>    3.516</td> <td> 0.000</td> <td>    0.015</td> <td>    0.053</td>\n",
       "</tr>\n",
       "<tr>\n",
       "  <th>DailyAmount7</th>   <td>    0.0437</td> <td>    0.011</td> <td>    4.075</td> <td> 0.000</td> <td>    0.023</td> <td>    0.065</td>\n",
       "</tr>\n",
       "<tr>\n",
       "  <th>DailyAmount30</th>  <td>    0.1003</td> <td>    0.018</td> <td>    5.570</td> <td> 0.000</td> <td>    0.065</td> <td>    0.136</td>\n",
       "</tr>\n",
       "<tr>\n",
       "  <th>DailyAmount180</th> <td>    0.2229</td> <td>    0.023</td> <td>    9.681</td> <td> 0.000</td> <td>    0.178</td> <td>    0.268</td>\n",
       "</tr>\n",
       "<tr>\n",
       "  <th>DailyAmount360</th> <td>    0.7395</td> <td>    0.024</td> <td>   31.148</td> <td> 0.000</td> <td>    0.693</td> <td>    0.786</td>\n",
       "</tr>\n",
       "</table>\n",
       "<table class=\"simpletable\">\n",
       "<tr>\n",
       "  <th>Omnibus:</th>       <td>128.248</td> <th>  Durbin-Watson:     </th> <td>   1.877</td> \n",
       "</tr>\n",
       "<tr>\n",
       "  <th>Prob(Omnibus):</th> <td> 0.000</td>  <th>  Jarque-Bera (JB):  </th> <td> 467.132</td> \n",
       "</tr>\n",
       "<tr>\n",
       "  <th>Skew:</th>          <td> 0.379</td>  <th>  Prob(JB):          </th> <td>3.66e-102</td>\n",
       "</tr>\n",
       "<tr>\n",
       "  <th>Kurtosis:</th>      <td> 5.685</td>  <th>  Cond. No.          </th> <td>8.07e+03</td> \n",
       "</tr>\n",
       "</table><br/><br/>Notes:<br/>[1] Standard Errors assume that the covariance matrix of the errors is correctly specified.<br/>[2] The condition number is large, 8.07e+03. This might indicate that there are<br/>strong multicollinearity or other numerical problems."
      ],
      "text/plain": [
       "<class 'statsmodels.iolib.summary.Summary'>\n",
       "\"\"\"\n",
       "                            OLS Regression Results                            \n",
       "==============================================================================\n",
       "Dep. Variable:            DailyAmount   R-squared:                       0.901\n",
       "Model:                            OLS   Adj. R-squared:                  0.901\n",
       "Method:                 Least Squares   F-statistic:                     2619.\n",
       "Date:                Fri, 17 Mar 2023   Prob (F-statistic):               0.00\n",
       "Time:                        16:01:31   Log-Likelihood:                -10587.\n",
       "No. Observations:                1440   AIC:                         2.119e+04\n",
       "Df Residuals:                    1434   BIC:                         2.122e+04\n",
       "Df Model:                           5                                         \n",
       "Covariance Type:            nonrobust                                         \n",
       "==================================================================================\n",
       "                     coef    std err          t      P>|t|      [0.025      0.975]\n",
       "----------------------------------------------------------------------------------\n",
       "Intercept         16.0850     19.885      0.809      0.419     -22.922      55.092\n",
       "DailyAmount1       0.0342      0.010      3.516      0.000       0.015       0.053\n",
       "DailyAmount7       0.0437      0.011      4.075      0.000       0.023       0.065\n",
       "DailyAmount30      0.1003      0.018      5.570      0.000       0.065       0.136\n",
       "DailyAmount180     0.2229      0.023      9.681      0.000       0.178       0.268\n",
       "DailyAmount360     0.7395      0.024     31.148      0.000       0.693       0.786\n",
       "==============================================================================\n",
       "Omnibus:                      128.248   Durbin-Watson:                   1.877\n",
       "Prob(Omnibus):                  0.000   Jarque-Bera (JB):              467.132\n",
       "Skew:                           0.379   Prob(JB):                    3.66e-102\n",
       "Kurtosis:                       5.685   Cond. No.                     8.07e+03\n",
       "==============================================================================\n",
       "\n",
       "Notes:\n",
       "[1] Standard Errors assume that the covariance matrix of the errors is correctly specified.\n",
       "[2] The condition number is large, 8.07e+03. This might indicate that there are\n",
       "strong multicollinearity or other numerical problems.\n",
       "\"\"\""
      ]
     },
     "execution_count": 23,
     "metadata": {},
     "output_type": "execute_result"
    }
   ],
   "source": [
    "#Print summary of the model\n",
    "model_base.summary()"
   ]
  },
  {
   "cell_type": "code",
   "execution_count": 24,
   "id": "94022c4b",
   "metadata": {},
   "outputs": [
    {
     "name": "stdout",
     "output_type": "stream",
     "text": [
      "      supply_cost  freeze_cost  count_cost  lackof_cost        total\n",
      "25%         185.0  6640.772802      0.4806            0  6826.253402\n",
      "50%         440.0  3571.502418      0.5068          500  4512.009218\n",
      "75%         510.0  5446.170714      0.3236          500  6456.494314\n",
      "100%        290.0  6720.085672      0.6250            0  7010.710672\n"
     ]
    }
   ],
   "source": [
    "#Simulate ATM operation based on the model predictions\n",
    "predictions = model_base.predict(CampusA.loc[:,['DailyAmount1', 'DailyAmount7', 'DailyAmount30', 'DailyAmount180', 'DailyAmount360']])\n",
    "capacity = 700000\n",
    "atm = capacity\n",
    "\n",
    "#Define fixed and variable costs for ATM operation\n",
    "supply_cost_fixed = 150\n",
    "supply_cost_var = 0.0002\n",
    "freeze_cost_var = 0.0196/360\n",
    "count_cost_var = 0.0002\n",
    "lackof_cost_fixed = 500\n",
    "\n",
    "#Initialize dictionary to store calculated costs\n",
    "costs = {'supply_cost' : [0]*4,\n",
    "        'freeze_cost' : [0]*4,\n",
    "        'count_cost' : [0]*4,\n",
    "        'lackof_cost' : [0]*4}\n",
    "\n",
    "#Simulate ATM operation over 180 days for different levels of initial cash recharge\n",
    "for i, recharge in enumerate([x*700000 for x in [.25,.5,.75,1]]):\n",
    "    for j, day in enumerate (CampusA_test.index):\n",
    "        atm -= CampusA_test.DailyAmount[day] \n",
    "        if atm < 0:\n",
    "            costs['lackof_cost'][i] += 500   \n",
    "        if atm <= predictions[day+1]:\n",
    "            costs['supply_cost'][i] += supply_cost_fixed + supply_cost_var * recharge\n",
    "            if atm > 0:\n",
    "                costs['count_cost'][i] += atm * count_cost_var\n",
    "            atm = recharge\n",
    "        costs['freeze_cost'][i] += atm * freeze_cost_var\n",
    "        if day == 1798:\n",
    "            break\n",
    "\n",
    "df = pd.DataFrame(costs, index = [f\"{round(x*100)}%\" for x in np.linspace(0.25,1,4)])\n",
    "df['total'] = df.sum(axis=1)\n",
    "print(df)"
   ]
  },
  {
   "cell_type": "code",
   "execution_count": 25,
   "id": "5f698f63",
   "metadata": {},
   "outputs": [
    {
     "name": "stdout",
     "output_type": "stream",
     "text": [
      "      supply_cost  freeze_cost  count_cost  lackof_cost        total\n",
      "25%         185.0  6640.772802      0.4806            0  6826.253402\n",
      "50%         440.0  3563.778221      0.5126          500  4504.290821\n",
      "75%         510.0  5465.131319      0.8244            0  5975.955719\n",
      "100%        290.0  6755.592706      0.3810            0  7045.973706\n"
     ]
    }
   ],
   "source": [
    "predictions = CampusA_train.DailyAmount.quantile(0.95)\n",
    "capacity = 700000\n",
    "atm = capacity\n",
    "\n",
    "supply_cost_fixed = 150\n",
    "supply_cost_var = 0.0002\n",
    "freeze_cost_var = 0.0196/360\n",
    "count_cost_var = 0.0002\n",
    "lackof_cost_fixed = 500\n",
    "\n",
    "costs = {'supply_cost' : [0]*4,\n",
    "        'freeze_cost' : [0]*4,\n",
    "        'count_cost' : [0]*4,\n",
    "        'lackof_cost' : [0]*4}\n",
    "\n",
    "for i, recharge in enumerate([x*700000 for x in [.25,.5,.75,1]]):\n",
    "    for j, day in enumerate (CampusA_test.index):\n",
    "        atm -= CampusA_test.DailyAmount[day] \n",
    "        if atm < 0:\n",
    "            costs['lackof_cost'][i] += 500   \n",
    "        if atm <= predictions:\n",
    "            costs['supply_cost'][i] += supply_cost_fixed + supply_cost_var * recharge\n",
    "            if atm > 0:\n",
    "                costs['count_cost'][i] += atm * count_cost_var\n",
    "            atm = recharge\n",
    "        costs['freeze_cost'][i] += atm * freeze_cost_var\n",
    "        if day == 1798:\n",
    "            break\n",
    "\n",
    "df = pd.DataFrame(costs, index = [f\"{round(x*100)}%\" for x in np.linspace(0.25,1,4)])\n",
    "df['total'] = df.sum(axis=1)\n",
    "print(df)"
   ]
  },
  {
   "cell_type": "code",
   "execution_count": 26,
   "id": "78fd0e59",
   "metadata": {},
   "outputs": [],
   "source": [
    "# The final result of this project provides insights into the costs associated with operating an Automated Teller Machine (ATM) under different levels of cash recharge and demand.\n",
    "# The project simulates ATM operation over a period of 360 days and calculates various costs such as supply cost, freeze cost, count cost, and lack-of-cash cost.\n",
    "# The simulation is followed by an analysis of the historical ATM daily data and a statistical model is built to predict the demand for the ATM.\n",
    "# The statistical model is used to forecast the demand for the ATM and this information is used to calculate the costs of ATM operation under different levels of cash recharge and predicted demand.\n",
    "# The results show that the total cost of ATM operation increases with the level of cash recharge, but decreases with an increase in predicted demand.\n",
    "# This information can be used by the business to make informed decisions about the operational costs of an ATM, such as how much cash to load and when to reload,\n",
    "# in order to optimize the operational costs of an ATM."
   ]
  }
 ],
 "metadata": {
  "kernelspec": {
   "display_name": "Python 3",
   "language": "python",
   "name": "python3"
  },
  "language_info": {
   "codemirror_mode": {
    "name": "ipython",
    "version": 3
   },
   "file_extension": ".py",
   "mimetype": "text/x-python",
   "name": "python",
   "nbconvert_exporter": "python",
   "pygments_lexer": "ipython3",
   "version": "3.8.8"
  }
 },
 "nbformat": 4,
 "nbformat_minor": 5
}
